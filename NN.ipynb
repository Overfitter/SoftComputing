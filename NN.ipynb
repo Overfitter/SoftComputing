{
 "cells": [
  {
   "cell_type": "code",
   "execution_count": 56,
   "metadata": {
    "collapsed": true
   },
   "outputs": [],
   "source": [
    "import numpy as np\n",
    "import csv\n",
    "from sklearn.neural_network import MLPClassifier\n",
    "import cPickle"
   ]
  },
  {
   "cell_type": "code",
   "execution_count": 69,
   "metadata": {
    "collapsed": true
   },
   "outputs": [],
   "source": [
    "X = np.empty((0,15), float)\n",
    "Y = np.empty(0, str)\n",
    "i = 0\n",
    "r = csv.reader(open('Features/Normalizedfeatures.csv',\"rb\"),delimiter=',') # Here your csv file\n",
    "for l in r:\n",
    "    if i == 1:\n",
    "        X = np.append(X, np.array([l[0:15]]), axis=0)\n",
    "        Y = np.append(Y, np.array([l[15]]), axis=0)\n",
    "    else:\n",
    "        i = 1\n",
    "        features = l[0:15]\n",
    "        output = l[15]\n",
    "        \n",
    "X = X.astype(float)\n",
    "Y = Y.astype(str)"
   ]
  },
  {
   "cell_type": "code",
   "execution_count": 70,
   "metadata": {
    "collapsed": true
   },
   "outputs": [],
   "source": [
    "number_of_samples = len(Y)\n",
    "#Splitting into training, validation and test sets\n",
    "random_indices = np.random.permutation(number_of_samples)\n",
    "#Training set\n",
    "num_training_samples = int(number_of_samples*0.70)\n",
    "X_train = X[random_indices[:num_training_samples]]\n",
    "Y_train = Y[random_indices[:num_training_samples]]\n",
    "#Validation set\n",
    "# num_validation_samples = int(number_of_samples*0.20)\n",
    "# X_val = X[random_indices[num_training_samples : num_training_samples+num_validation_samples]]\n",
    "# Y_val = Y[random_indices[num_training_samples: num_training_samples+num_validation_samples]]\n",
    "#Test set\n",
    "num_test_samples = int(number_of_samples*0.30)\n",
    "X_test = X[random_indices[-num_test_samples:]]\n",
    "Y_test = Y[random_indices[-num_test_samples:]]"
   ]
  },
  {
   "cell_type": "code",
   "execution_count": 72,
   "metadata": {
    "collapsed": false
   },
   "outputs": [
    {
     "name": "stdout",
     "output_type": "stream",
     "text": [
      "test misclassification percentage = 22.6666666667 %\n"
     ]
    }
   ],
   "source": [
    "model = MLPClassifier(solver='adam', alpha=1e-1,hidden_layer_sizes=(14), random_state=1)\n",
    "model.fit(X_train,Y_train)\n",
    "#Saving the model\n",
    "with open('model.pkl', 'wb') as fid:\n",
    "    cPickle.dump(model, fid)\n",
    "\n",
    "# validation_set_predictions = [model.predict(X_val[i].reshape((1,len(X_val[0]))))[0] for i in range(X_val.shape[0])]\n",
    "# validation_misclassification_percentage = 0.0\n",
    "# for i in range(len(validation_set_predictions)):\n",
    "#     if validation_set_predictions[i]!=Y_val[i]:\n",
    "#         validation_misclassification_percentage+=1.0\n",
    "# validation_misclassification_percentage *= 100.0/len(Y_val)\n",
    "# print 'validation misclassification percentage =', validation_misclassification_percentage, '%'\n",
    "\n",
    "test_set_predictions = model.predict(X_test)\n",
    "\n",
    "test_misclassification_percentage = 0.0\n",
    "for i in range(len(test_set_predictions)):\n",
    "    if test_set_predictions[i]!=Y_test[i]:\n",
    "        test_misclassification_percentage+=1.0\n",
    "test_misclassification_percentage *= 100.0/len(Y_test)\n",
    "print 'test misclassification percentage =', test_misclassification_percentage, '%'"
   ]
  },
  {
   "cell_type": "code",
   "execution_count": 55,
   "metadata": {
    "collapsed": false
   },
   "outputs": [
    {
     "data": {
      "text/plain": [
       "array(['8', '7', '5', '9', '7', '5', '1', '8', '7', '2', '1', '3', '7',\n",
       "       '1', '9', '3', '9', '6', '7', '6', '7', '1', '7', '3', '3', '8',\n",
       "       '4', '9', '1', '9', '3', '8', '9', '4', '7', '3', '7', '7', '4',\n",
       "       '3', '9', '5', '6', '6', '7', '7', '8', '8', '6', '7', '8', '9',\n",
       "       '7', '2', '5', '8', '4', '7', '6', '4', '8', '7', '7', '2', '2',\n",
       "       '9', '5', '0', '8', '2', '7', '8', '8', '4', '4', '8', '5', '8',\n",
       "       '5', '7', '1', '8', '8', '8', '5', '4', '7', '8', '2', '8', '4',\n",
       "       '0', '6', '2', '3', '3', '6', '6', '8', '7', '4', '1', '0', '6',\n",
       "       '7', '2', '1', '7', '1', '7', '1', '9', '8', '7', '5', '5', '7',\n",
       "       '7', '9', '8', '7', '9', '1', '5', '0', '6', '0', '1', '9', '7',\n",
       "       '7', '9', '9', '6', '7', '4', '9', '3', '9', '0', '1', '8', '7',\n",
       "       '7', '1', '3', '3', '9', '2', '9'], \n",
       "      dtype='|S1')"
      ]
     },
     "execution_count": 55,
     "metadata": {},
     "output_type": "execute_result"
    }
   ],
   "source": [
    "# print(model.predict(X_test))\n",
    "# k = 0\n",
    "# for i in map(int, test_set_predictions):\n",
    "#     print model.predict_proba(X_test)[k][i]\n",
    "#     k += 1\n",
    "test_set_predictions"
   ]
  },
  {
   "cell_type": "code",
   "execution_count": 11,
   "metadata": {
    "collapsed": true
   },
   "outputs": [],
   "source": [
    "with open('model.pkl', 'wb') as fid:\n",
    "    cPickle.dump(model, fid)"
   ]
  },
  {
   "cell_type": "code",
   "execution_count": 2,
   "metadata": {
    "collapsed": true
   },
   "outputs": [],
   "source": [
    "with open('model.pkl', 'rb') as fid:\n",
    "    model = cPickle.load(fid)"
   ]
  },
  {
   "cell_type": "code",
   "execution_count": 4,
   "metadata": {
    "collapsed": false
   },
   "outputs": [
    {
     "data": {
      "text/plain": [
       "0.75662322733950793"
      ]
     },
     "execution_count": 4,
     "metadata": {},
     "output_type": "execute_result"
    }
   ],
   "source": [
    "_list = [1, 0, 1, 0, 1, 0, 1, 1, 1, 1, 1, 0, 1, 1, 1]\n",
    "# _array = np.empty((0,15),float)\n",
    "# _array = np.append(_array, _list, axis = 0)\n",
    "model.predict_proba(np.asarray(_list).reshape(1,-1))[0][0]"
   ]
  }
 ],
 "metadata": {
  "anaconda-cloud": {},
  "kernelspec": {
   "display_name": "Python [Root]",
   "language": "python",
   "name": "Python [Root]"
  },
  "language_info": {
   "codemirror_mode": {
    "name": "ipython",
    "version": 2
   },
   "file_extension": ".py",
   "mimetype": "text/x-python",
   "name": "python",
   "nbconvert_exporter": "python",
   "pygments_lexer": "ipython2",
   "version": "2.7.12"
  }
 },
 "nbformat": 4,
 "nbformat_minor": 0
}
